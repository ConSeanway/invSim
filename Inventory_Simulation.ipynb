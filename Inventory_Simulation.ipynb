{
  "nbformat": 4,
  "nbformat_minor": 0,
  "metadata": {
    "colab": {
      "name": "Inventory Simulation",
      "provenance": [],
      "collapsed_sections": [],
      "include_colab_link": true
    },
    "kernelspec": {
      "name": "python3",
      "display_name": "Python 3"
    }
  },
  "cells": [
    {
      "cell_type": "markdown",
      "metadata": {
        "id": "view-in-github",
        "colab_type": "text"
      },
      "source": [
        "<a href=\"https://colab.research.google.com/github/ConSeanway/invSim/blob/master/Inventory_Simulation.ipynb\" target=\"_parent\"><img src=\"https://colab.research.google.com/assets/colab-badge.svg\" alt=\"Open In Colab\"/></a>"
      ]
    },
    {
      "cell_type": "markdown",
      "metadata": {
        "id": "pxzmEsrXDuUc",
        "colab_type": "text"
      },
      "source": [
        "# Inventory Simulation\n",
        "## Authors:  Sean Conway + Yanzhe Ma\n",
        "\n",
        "---\n",
        "\n",
        "\n",
        "Last Modified: 22JUL2020"
      ]
    },
    {
      "cell_type": "markdown",
      "metadata": {
        "id": "jz5N53HOEdty",
        "colab_type": "text"
      },
      "source": [
        "> Implementation of Inventory Simulation Using Classes\n",
        "\n"
      ]
    },
    {
      "cell_type": "markdown",
      "metadata": {
        "id": "DFD505vjMzey",
        "colab_type": "text"
      },
      "source": [
        "Inventory Simulation Class"
      ]
    },
    {
      "cell_type": "code",
      "metadata": {
        "id": "0gXWlBnOEccN",
        "colab_type": "code",
        "colab": {}
      },
      "source": [
        "import numpy as np\n",
        "from scipy.stats import norm\n",
        "import matplotlib.pyplot as plt\n",
        "\n",
        "# \"Game\" class that can be created to run the whole simulation\n",
        "\n",
        "class InvSimulation:\n",
        "  def __init__(self, meanDemand=100, demandStDev=20, periodsToSimulate=1000):\n",
        "    self.periodsToSimulate = periodsToSimulate\n",
        "\n",
        "    self.nodeDict = {}\n",
        "    self.nodeLinks = {}\n",
        "    self.demandMean = meanDemand\n",
        "    self.demandStDev = demandStDev\n",
        "\n",
        "  def createNode(self, nodeID, h=3, p=25, K=1000):\n",
        "    newNode = Node(nodeID, h, p, K)\n",
        "    self.nodeDict[nodeID] = newNode\n",
        "\n",
        "  # USAGE: Lookup key is the start node, endNode is the result from the dictionary query\n",
        "  def createLink(self, startNodeID, endNodeID):\n",
        "    if not startNodeID in self.nodeLinks.keys():\n",
        "      self.nodeLinks[startNodeID] = []\n",
        "    self.nodeLinks[startNodeID].append(endNodeID)\n",
        "    self.nodeDict[startNodeID].addDependent(endNodeID)\n",
        "\n",
        "  def removeLink(self, startNodeID, endNodeID):\n",
        "    if startNodeID in self.nodeLinks and endNodeID in self.nodeLinks[startNodeID]:\n",
        "      self.nodeLinks[startNodeID].remove(endNodeID)\n",
        "      self.nodeDict[startNodeID].removeDependent(endNodeID)\n",
        "    if len(self.nodeLinks[startNodeID]) <= 0:\n",
        "      self.nodeLinks.pop(startNodeID, None)\n",
        "\n",
        "  def playSimulation(self, gameType=\"optimalBaseStockGame\", minBaseStockLevel=0, maxBaseStockLevel=1000):\n",
        "    if gameType == \"baseStockVariation\":\n",
        "      self.playBaseStockVariationGame(minBaseStockLevel, maxBaseStockLevel)\n",
        "    else:\n",
        "      self.playOptimalBaseStockGame()\n",
        "\n",
        "###########################################################################################################\n",
        "\n",
        "  def playOptimalBaseStockGame(self):\n",
        "\n",
        "    # Provides a way to record statistics on the simulation\n",
        "    costRecord = np.zeros((self.periodsToSimulate, len(self.nodeDict.values())))\n",
        "    orderQtyRecord = np.zeros((self.periodsToSimulate, len(self.nodeDict.values())))\n",
        "    demandRecord = np.zeros((self.periodsToSimulate, len(self.nodeDict.values())))\n",
        "    invLevelRecord = np.zeros((self.periodsToSimulate, len(self.nodeDict.values())))\n",
        "\n",
        "    # Initialize each node's inventory, and calculate optimal value for S\n",
        "    for node in self.nodeDict.values():\n",
        "        # Assume that all follow an r, Q policy\n",
        "        criticalFractile = node.stockoutCost / (node.stockoutCost + node.holdingCost)\n",
        "        S = norm.ppf(criticalFractile, loc=node.demandMean, scale=node.demandStDev)\n",
        "        node.inventory = S\n",
        "        node.baseStockLevel = S\n",
        "\n",
        "    for period in range(0, self.periodsToSimulate):\n",
        "      # Check to see if we need to order anything\n",
        "      nodeNum = 0\n",
        "      for node in self.nodeDict.values():\n",
        "        if period > 0:\n",
        "          invLevelRecord[period - 1][nodeNum] = node.inventory\n",
        "          \n",
        "        orderQty = max(0, node.baseStockLevel - node.inventory)\n",
        "        node.orderInventory(orderQty)\n",
        "\n",
        "        # Delay the quantity ordered by 1 period, since we're ordering in response to the demand\n",
        "        if period > 0:\n",
        "          orderQtyRecord[period - 1][nodeNum] = orderQty\n",
        "          nodeNum += 1\n",
        "\n",
        "      # Incur demand, then calculate inventory cost\n",
        "      nodeNum = 0\n",
        "      for node in self.nodeDict.values():\n",
        "        thisPeriodDemand = np.random.normal(loc=node.demandMean, scale=node.demandStDev)\n",
        "        node.incurDemand(thisPeriodDemand)\n",
        "        demandRecord[period][nodeNum] = thisPeriodDemand\n",
        "        thisPeriodCost = node.calculateInvCost()\n",
        "        costRecord[period][nodeNum] = thisPeriodCost\n",
        "        nodeNum += 1\n",
        "\n",
        "      self.orderQtyRecord = orderQtyRecord\n",
        "      self.costRecord = costRecord\n",
        "      self.demandRecord = demandRecord\n",
        "      self.invLevelRecord = invLevelRecord\n",
        "\n",
        "\n",
        "############################################################################################################\n",
        "\n",
        "  def playBaseStockVariationGame(self, minBaseStockLevel=0, maxBaseStockLevel=1000):\n",
        "\n",
        "    baseStockLevelRecord = np.zeros((maxBaseStockLevel - minBaseStockLevel, len(self.nodeDict.values())))\n",
        "    avgCostRecord = np.zeros((maxBaseStockLevel - minBaseStockLevel, len(self.nodeDict.values())))\n",
        "\n",
        "    for S in range(minBaseStockLevel, maxBaseStockLevel):\n",
        "      baseStockLevelRecord[S] = S\n",
        "      totalCost = 0\n",
        "      # Initialize each node's inventory, and calculate optimal value for S\n",
        "      for node in self.nodeDict.values():\n",
        "          node.inventory = S\n",
        "          node.baseStockLevel = S\n",
        "\n",
        "      for period in range(0, self.periodsToSimulate):\n",
        "        for node in self.nodeDict.values():\n",
        "          orderQty = max(0, node.baseStockLevel - node.inventory)\n",
        "          node.orderInventory(orderQty)\n",
        "\n",
        "        # Incur demand, then calculate inventory cost\n",
        "        for node in self.nodeDict.values():\n",
        "          thisPeriodDemand = np.random.normal(loc=node.demandMean, scale=node.demandStDev)\n",
        "          node.incurDemand(thisPeriodDemand)\n",
        "          thisPeriodCost = node.calculateInvCost()\n",
        "          totalCost += thisPeriodCost\n",
        "\n",
        "      thisInvLevelAvgCost = totalCost / (self.periodsToSimulate)\n",
        "\n",
        "      avgCostRecord[S] = thisInvLevelAvgCost\n",
        "\n",
        "      self.baseStockLevelRecord = baseStockLevelRecord\n",
        "      self.avgCostRecord = avgCostRecord"
      ],
      "execution_count": 2,
      "outputs": []
    },
    {
      "cell_type": "markdown",
      "metadata": {
        "id": "gk1AlwjRM2o6",
        "colab_type": "text"
      },
      "source": [
        "Node Class"
      ]
    },
    {
      "cell_type": "code",
      "metadata": {
        "id": "8I7bgsPTEusd",
        "colab_type": "code",
        "colab": {}
      },
      "source": [
        "class Node:\n",
        "\n",
        "  def __init__(self, id, h=3, p=25, K=1000, demandMean=100, demandStDev=20):\n",
        "    self.holdingCost = h\n",
        "    self.stockoutCost = p\n",
        "    self.fixedOrderCost = K\n",
        "    self.inventory = 0\n",
        "    self.id = id\n",
        "    self.linkedNodes = []\n",
        "\n",
        "    # This is assuming that in this game, we have an idea of the distribution params for demand\n",
        "    self.demandMean = 100\n",
        "    self.demandStDev = 20\n",
        "\n",
        "    self.cumulativeCostIncurred = 0\n",
        "    self.lastCostIncurred = 0\n",
        "\n",
        "###############################################################################\n",
        "\n",
        "  # Methods that deal with linked nodes\n",
        "  def addDependent(self, nextNode):\n",
        "    if not nextNode in self.linkedNodes:\n",
        "      self.linkedNodes.append(nextNode)\n",
        "\n",
        "  def removeDependent(self, nextNode):\n",
        "    if nextNode in self.linkedNodes:\n",
        "      self.linkedNodes.remove(nextNode)\n",
        "\n",
        "###############################################################################\n",
        "    \n",
        "  def orderInventory(self, qtyToOrder):\n",
        "    self.inventory += qtyToOrder\n",
        "\n",
        "  def incurDemand(self, demand):\n",
        "    self.inventory -= demand\n",
        "\n",
        "  def calculateInvCost(self):\n",
        "    cost = self.holdingCost * max(0, self.inventory) + self.stockoutCost * max(0, -1 * self.inventory)\n",
        "    self.cumulativeCostIncurred += cost\n",
        "    self.lastCostIncurred = cost\n",
        "    return cost"
      ],
      "execution_count": 3,
      "outputs": []
    },
    {
      "cell_type": "markdown",
      "metadata": {
        "id": "K8BLcxd-zhIY",
        "colab_type": "text"
      },
      "source": [
        "## Optimal Base Stock Game with Plots"
      ]
    },
    {
      "cell_type": "code",
      "metadata": {
        "id": "xzrWulAgJYC0",
        "colab_type": "code",
        "colab": {
          "base_uri": "https://localhost:8080/",
          "height": 616
        },
        "outputId": "095a66da-ffa2-47c4-868d-8a19b472dc98"
      },
      "source": [
        "# Create an inventory simulation object, as well as the first node\n",
        "myInvSim = InvSimulation()\n",
        "\n",
        "# Node creation:  Key (mandatory), holding cost, stockout cost, and fixed order cost\n",
        "myInvSim.createNode(\"retailer\", 3, 25, 1000)\n",
        "\n",
        "# Currently assume that everyone plays with the same plicy\n",
        "myInvSim.playSimulation()\n",
        "\n",
        "# You can get the cost record by accessing it directly from the inventory simulation\n",
        "costRecord = myInvSim.costRecord\n",
        "demandRecord = myInvSim.demandRecord\n",
        "orderQtyRecord = myInvSim.orderQtyRecord\n",
        "invLevelRecord = myInvSim.invLevelRecord\n",
        "\n",
        "print(\"Optimal base stock is \" + str(round(myInvSim.nodeDict['retailer'].baseStockLevel, 2)) + \" for retailer\")\n",
        "\n",
        "# Remove the last entries from the returned arrays (we never order in response to the last demand incurred)\n",
        "costRecord = costRecord[:-1, :]\n",
        "demandRecord = demandRecord[:-1, :]\n",
        "orderQtyRecord = orderQtyRecord[:-1, :]\n",
        "invLevelRecord = invLevelRecord[:-1, :]\n",
        "\n",
        "fig = plt.figure()\n",
        "plt.scatter(orderQtyRecord, demandRecord)\n",
        "fig.suptitle('Demand vs Order Quantity')\n",
        "plt.xlabel('Order Quantity')\n",
        "plt.ylabel('Demand')\n",
        "plt.show()\n",
        "\n",
        "fig = plt.figure()\n",
        "plt.scatter(invLevelRecord, costRecord)\n",
        "fig.suptitle('Cost vs Inventory Level')\n",
        "plt.xlabel('Inventory Level')\n",
        "plt.ylabel('Cost')\n",
        "plt.show()"
      ],
      "execution_count": 5,
      "outputs": [
        {
          "output_type": "stream",
          "text": [
            "Optimal base stock is 124.84 for retailer\n"
          ],
          "name": "stdout"
        },
        {
          "output_type": "display_data",
          "data": {
            "image/png": "[encoded data removed]",
            "text/plain": [
              "<Figure size 432x288 with 1 Axes>"
            ]
          },
          "metadata": {
            "tags": [],
            "needs_background": "light"
          }
        },
        {
          "output_type": "display_data",
          "data": {
            "image/png": "[encoded data removed]",
            "text/plain": [
              "<Figure size 432x288 with 1 Axes>"
            ]
          },
          "metadata": {
            "tags": [],
            "needs_background": "light"
          }
        }
      ]
    },
    {
      "cell_type": "markdown",
      "metadata": {
        "id": "iYfmX6AvzrAI",
        "colab_type": "text"
      },
      "source": [
        "##Base Stock Variation Game Demo"
      ]
    },
    {
      "cell_type": "code",
      "metadata": {
        "id": "oTV-XFeMzpcO",
        "colab_type": "code",
        "colab": {
          "base_uri": "https://localhost:8080/",
          "height": 308
        },
        "outputId": "676b1567-bc32-4ebd-96bb-02c5b7a0b55b"
      },
      "source": [
        "# Create an inventory simulation object, as well as the first node\n",
        "myInvSim = InvSimulation()\n",
        "\n",
        "myInvSim.periodsToSimulate = 30\n",
        "\n",
        "# Node creation:  Key (mandatory), holding cost, stockout cost, and fixed order cost\n",
        "myInvSim.createNode(\"retailer\", 3, 25, 1000)\n",
        "\n",
        "# Currently assume that everyone plays with the same plicy\n",
        "myInvSim.playSimulation(\"baseStockVariation\", minBaseStockLevel=0, maxBaseStockLevel=250)\n",
        "\n",
        "avgCostRecord = myInvSim.avgCostRecord\n",
        "baseStockLevelRecord = myInvSim.baseStockLevelRecord\n",
        "\n",
        "avgCostRecord = avgCostRecord[:-1, :]\n",
        "baseStockLevelRecord = baseStockLevelRecord[:-1, :]\n",
        "\n",
        "fig = plt.figure()\n",
        "plt.scatter(baseStockLevelRecord, avgCostRecord)\n",
        "fig.suptitle('Avg Cost vs Base Stock Level')\n",
        "plt.xlabel('Base Stock Level')\n",
        "plt.ylabel('Avg Cost')\n",
        "plt.show()"
      ],
      "execution_count": 6,
      "outputs": [
        {
          "output_type": "display_data",
          "data": {
            "image/png": "[encoded data removed]",
            "text/plain": [
              "<Figure size 432x288 with 1 Axes>"
            ]
          },
          "metadata": {
            "tags": [],
            "needs_background": "light"
          }
        }
      ]
    },
    {
      "cell_type": "markdown",
      "metadata": {
        "id": "GaNH5AAY93F7",
        "colab_type": "text"
      },
      "source": [
        "> OLD CODE:  Procedural version of code implementation\n",
        "\n"
      ]
    },
    {
      "cell_type": "code",
      "metadata": {
        "id": "7395rvvtdNnH",
        "colab_type": "code",
        "colab": {}
      },
      "source": [
        "# Params:  Holding cost, stockout cost, and fixed order cost\n",
        "h = 3\n",
        "p = 25\n",
        "K = 1000 \n",
        "\n",
        "# Demand distribution statistics (assuming normality)\n",
        "demandMean = 100\n",
        "demandStDev = 20\n",
        "\n",
        "periodsToSimulate = 1000\n",
        "\n",
        "\n",
        "# No need to adjust - this is how we calculate critical fractile\n",
        "criticalFractile = p / (p + h)\n",
        "\n",
        "# Hold a record for each period\n",
        "periodInfo = {}\n",
        "\n",
        "# Initialize a demand for the first period, and calculate the correct value of S for a normal demand\n",
        "thisPeriodDemand = np.random.normal(loc=demandMean, scale=demandStDev)\n",
        "S = norm.ppf(criticalFractile, loc=demandMean, scale=demandStDev)"
      ],
      "execution_count": 7,
      "outputs": []
    },
    {
      "cell_type": "code",
      "metadata": {
        "id": "j5CsyJK3rPLj",
        "colab_type": "code",
        "colab": {}
      },
      "source": [
        "# Iterate through each period of the inventory simulation game\n",
        "\n",
        "for i in range(0,periodsToSimulate):\n",
        "  if i == 0:\n",
        "    startingInv = S\n",
        "  else:\n",
        "    startingInv = endingInv\n",
        "  orderQty = max(0, S - startingInv)\n",
        "  thisPeriodDemand = np.random.normal(loc=demandMean, scale=demandStDev)\n",
        "  endingInv = startingInv + orderQty - thisPeriodDemand\n",
        "  cost = h*max(0,endingInv)+p*max(0,-1*endingInv)\n",
        "  periodInfo[i] = [startingInv,endingInv,orderQty,thisPeriodDemand,cost]"
      ],
      "execution_count": 9,
      "outputs": []
    }
  ]
}